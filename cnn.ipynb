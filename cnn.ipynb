{
 "cells": [
  {
   "cell_type": "code",
   "execution_count": 1,
   "metadata": {},
   "outputs": [
    {
     "name": "stderr",
     "output_type": "stream",
     "text": [
      "Using TensorFlow backend.\n"
     ]
    }
   ],
   "source": [
    "import numpy as np\n",
    "import pandas as pd\n",
    "import glob\n",
    "import time\n",
    "import pandas as pd\n",
    "# from xml.dom import minidom\n",
    "import os\n",
    "import matplotlib.pyplot as plt\n",
    "import keras\n"
   ]
  },
  {
   "cell_type": "code",
   "execution_count": 2,
   "metadata": {},
   "outputs": [
    {
     "data": {
      "text/html": [
       "<div>\n",
       "<style scoped>\n",
       "    .dataframe tbody tr th:only-of-type {\n",
       "        vertical-align: middle;\n",
       "    }\n",
       "\n",
       "    .dataframe tbody tr th {\n",
       "        vertical-align: top;\n",
       "    }\n",
       "\n",
       "    .dataframe thead th {\n",
       "        text-align: right;\n",
       "    }\n",
       "</style>\n",
       "<table border=\"1\" class=\"dataframe\">\n",
       "  <thead>\n",
       "    <tr style=\"text-align: right;\">\n",
       "      <th></th>\n",
       "      <th>Unnamed: 0</th>\n",
       "      <th>Sentence</th>\n",
       "      <th>Label</th>\n",
       "    </tr>\n",
       "  </thead>\n",
       "  <tbody>\n",
       "    <tr>\n",
       "      <th>0</th>\n",
       "      <td>0</td>\n",
       "      <td>&lt;li&gt;&lt;a href=\"/wiki/File:Socrates.png\" class=\"i...</td>\n",
       "      <td>0</td>\n",
       "    </tr>\n",
       "    <tr>\n",
       "      <th>1</th>\n",
       "      <td>1</td>\n",
       "      <td>&lt;tt onmouseover=\"alert(1)\"&gt;test&lt;/tt&gt;</td>\n",
       "      <td>1</td>\n",
       "    </tr>\n",
       "    <tr>\n",
       "      <th>2</th>\n",
       "      <td>2</td>\n",
       "      <td>\\t &lt;/span&gt; &lt;span class=\"reference-text\"&gt;Steeri...</td>\n",
       "      <td>0</td>\n",
       "    </tr>\n",
       "    <tr>\n",
       "      <th>3</th>\n",
       "      <td>3</td>\n",
       "      <td>\\t &lt;/span&gt; &lt;span class=\"reference-text\"&gt;&lt;cite ...</td>\n",
       "      <td>0</td>\n",
       "    </tr>\n",
       "    <tr>\n",
       "      <th>4</th>\n",
       "      <td>4</td>\n",
       "      <td>\\t &lt;/span&gt;. &lt;a href=\"/wiki/Digital_object_iden...</td>\n",
       "      <td>0</td>\n",
       "    </tr>\n",
       "  </tbody>\n",
       "</table>\n",
       "</div>"
      ],
      "text/plain": [
       "   Unnamed: 0                                           Sentence  Label\n",
       "0           0  <li><a href=\"/wiki/File:Socrates.png\" class=\"i...      0\n",
       "1           1               <tt onmouseover=\"alert(1)\">test</tt>      1\n",
       "2           2  \\t </span> <span class=\"reference-text\">Steeri...      0\n",
       "3           3  \\t </span> <span class=\"reference-text\"><cite ...      0\n",
       "4           4  \\t </span>. <a href=\"/wiki/Digital_object_iden...      0"
      ]
     },
     "execution_count": 2,
     "metadata": {},
     "output_type": "execute_result"
    }
   ],
   "source": [
    "df=pd.read_csv('./dataset/XSS_dataset.csv',encoding='utf-8-sig')\n",
    "df.head()\n"
   ]
  },
  {
   "cell_type": "code",
   "execution_count": 3,
   "metadata": {},
   "outputs": [
    {
     "data": {
      "text/html": [
       "<div>\n",
       "<style scoped>\n",
       "    .dataframe tbody tr th:only-of-type {\n",
       "        vertical-align: middle;\n",
       "    }\n",
       "\n",
       "    .dataframe tbody tr th {\n",
       "        vertical-align: top;\n",
       "    }\n",
       "\n",
       "    .dataframe thead th {\n",
       "        text-align: right;\n",
       "    }\n",
       "</style>\n",
       "<table border=\"1\" class=\"dataframe\">\n",
       "  <thead>\n",
       "    <tr style=\"text-align: right;\">\n",
       "      <th></th>\n",
       "      <th>Sentence</th>\n",
       "      <th>Label</th>\n",
       "    </tr>\n",
       "  </thead>\n",
       "  <tbody>\n",
       "    <tr>\n",
       "      <th>0</th>\n",
       "      <td>&lt;li&gt;&lt;a href=\"/wiki/File:Socrates.png\" class=\"i...</td>\n",
       "      <td>0</td>\n",
       "    </tr>\n",
       "    <tr>\n",
       "      <th>1</th>\n",
       "      <td>&lt;tt onmouseover=\"alert(1)\"&gt;test&lt;/tt&gt;</td>\n",
       "      <td>1</td>\n",
       "    </tr>\n",
       "    <tr>\n",
       "      <th>2</th>\n",
       "      <td>\\t &lt;/span&gt; &lt;span class=\"reference-text\"&gt;Steeri...</td>\n",
       "      <td>0</td>\n",
       "    </tr>\n",
       "    <tr>\n",
       "      <th>3</th>\n",
       "      <td>\\t &lt;/span&gt; &lt;span class=\"reference-text\"&gt;&lt;cite ...</td>\n",
       "      <td>0</td>\n",
       "    </tr>\n",
       "    <tr>\n",
       "      <th>4</th>\n",
       "      <td>\\t &lt;/span&gt;. &lt;a href=\"/wiki/Digital_object_iden...</td>\n",
       "      <td>0</td>\n",
       "    </tr>\n",
       "  </tbody>\n",
       "</table>\n",
       "</div>"
      ],
      "text/plain": [
       "                                            Sentence  Label\n",
       "0  <li><a href=\"/wiki/File:Socrates.png\" class=\"i...      0\n",
       "1               <tt onmouseover=\"alert(1)\">test</tt>      1\n",
       "2  \\t </span> <span class=\"reference-text\">Steeri...      0\n",
       "3  \\t </span> <span class=\"reference-text\"><cite ...      0\n",
       "4  \\t </span>. <a href=\"/wiki/Digital_object_iden...      0"
      ]
     },
     "execution_count": 3,
     "metadata": {},
     "output_type": "execute_result"
    }
   ],
   "source": [
    "df=df[df.columns[-2:]]\n",
    "df.head()"
   ]
  },
  {
   "cell_type": "code",
   "execution_count": 4,
   "metadata": {},
   "outputs": [
    {
     "data": {
      "text/plain": [
       "'<li><a href=\"/wiki/File:Socrates.png\" class=\"image\"><img alt=\"Socrates.png\" src=\"//upload.wikimedia.org/wikipedia/commons/thumb/c/cd/Socrates.png/18px-Socrates.png\" decoding=\"async\" width=\"18\" height=\"28\" class=\"noviewer\" srcset=\"//upload.wikimedia.org/wikipedia/commons/thumb/c/cd/Socrates.png/27px-Socrates.png 1.5x, //upload.wikimedia.org/wikipedia/commons/thumb/c/cd/Socrates.png/36px-Socrates.png 2x\" data-file-width=\"326\" data-file-height=\"500\" /> </a> <a href=\"/wiki/Portal:Philosophy\" title=\"Portal:Philosophy\">Philosophy&#32;portal </a> </li> </ul>'"
      ]
     },
     "execution_count": 4,
     "metadata": {},
     "output_type": "execute_result"
    }
   ],
   "source": [
    "sentences=df['Sentence'].values\n",
    "sentences[0]"
   ]
  },
  {
   "cell_type": "code",
   "execution_count": 5,
   "metadata": {},
   "outputs": [
    {
     "data": {
      "text/plain": [
       "13686"
      ]
     },
     "execution_count": 5,
     "metadata": {},
     "output_type": "execute_result"
    }
   ],
   "source": [
    "df.shape[0]"
   ]
  },
  {
   "cell_type": "code",
   "execution_count": 6,
   "metadata": {},
   "outputs": [],
   "source": [
    "def convert_to_ascii(sentence):\n",
    "    sentence_ascii=[]\n",
    "\n",
    "    for i in sentence:\n",
    "        \"\"\"Some characters have values very big e.d 8221 adn some are chinese letters\n",
    "        I am removing letters having values greater than 8222 and for rest greater \n",
    "        than 128 and smaller than 8222 assigning them values so they can easily be normalized\"\"\"\n",
    "       \n",
    "        if(ord(i)<8222):      # ” has ASCII of 8221\n",
    "            \n",
    "            if(ord(i)==8217): # ’  :  8217\n",
    "                sentence_ascii.append(134)\n",
    "            \n",
    "            \n",
    "            if(ord(i)==8221): # ”  :  8221\n",
    "                sentence_ascii.append(129)\n",
    "                \n",
    "            if(ord(i)==8220): # “  :  8220\n",
    "                sentence_ascii.append(130)\n",
    "                \n",
    "                \n",
    "            if(ord(i)==8216): # ‘  :  8216\n",
    "                sentence_ascii.append(131)\n",
    "                \n",
    "            if(ord(i)==8217): # ’  :  8217\n",
    "                sentence_ascii.append(132)\n",
    "            \n",
    "            if(ord(i)==8211): # –  :  8211\n",
    "                sentence_ascii.append(133)\n",
    "                \n",
    "                \n",
    "            \"\"\"\n",
    "            If values less than 128 store them else discard them\n",
    "            \"\"\"\n",
    "            if (ord(i)<=128):\n",
    "                    sentence_ascii.append(ord(i))\n",
    "    \n",
    "            else:\n",
    "                    pass\n",
    "            \n",
    "\n",
    "    zer=np.zeros((10000))\n",
    "\n",
    "    for i in range(len(sentence_ascii)):\n",
    "        zer[i]=sentence_ascii[i]\n",
    "\n",
    "    zer.shape=(100, 100)\n",
    "\n",
    "\n",
    "#     plt.plot(image)\n",
    "#     plt.show()\n",
    "    return zer"
   ]
  },
  {
   "cell_type": "code",
   "execution_count": 15,
   "metadata": {},
   "outputs": [
    {
     "data": {
      "text/plain": [
       "'<tt onmouseover=\"alert(1)\">test</tt>'"
      ]
     },
     "execution_count": 15,
     "metadata": {},
     "output_type": "execute_result"
    }
   ],
   "source": [
    "sentences[1]\n",
    "#convert_to_ascii(sentences[1])"
   ]
  },
  {
   "cell_type": "code",
   "execution_count": 21,
   "metadata": {},
   "outputs": [
    {
     "data": {
      "text/plain": [
       "array([ 60., 116., 116.,  32., 111., 110., 109., 111., 117., 115., 101.,\n",
       "       111., 118., 101., 114.,  61.,  34.,  97., 108., 101., 114., 116.,\n",
       "        40.,  49.,  41.,  34.,  62., 116., 101., 115., 116.,  60.,  47.,\n",
       "       116., 116.,  62.,   0.,   0.,   0.,   0.,   0.,   0.,   0.,   0.,\n",
       "         0.,   0.,   0.,   0.,   0.,   0.,   0.,   0.,   0.,   0.,   0.,\n",
       "         0.,   0.,   0.,   0.,   0.,   0.,   0.,   0.,   0.,   0.,   0.,\n",
       "         0.,   0.,   0.,   0.,   0.,   0.,   0.,   0.,   0.,   0.,   0.,\n",
       "         0.,   0.,   0.,   0.,   0.,   0.,   0.,   0.,   0.,   0.,   0.,\n",
       "         0.,   0.,   0.,   0.,   0.,   0.,   0.,   0.,   0.,   0.,   0.,\n",
       "         0.])"
      ]
     },
     "execution_count": 21,
     "metadata": {},
     "output_type": "execute_result"
    }
   ],
   "source": [
    "convert_to_ascii(sentences[1])"
   ]
  },
  {
   "cell_type": "code",
   "execution_count": 18,
   "metadata": {},
   "outputs": [
    {
     "data": {
      "text/plain": [
       "(100, 100)"
      ]
     },
     "execution_count": 18,
     "metadata": {},
     "output_type": "execute_result"
    }
   ],
   "source": [
    "convert_to_ascii(sentences[1]).shape"
   ]
  },
  {
   "cell_type": "code",
   "execution_count": 28,
   "metadata": {},
   "outputs": [],
   "source": [
    "import cv2\n",
    "arr=np.zeros((len(sentences),100,100))\n",
    "\n",
    "for i in range(len(sentences)):\n",
    "    \n",
    "    image=convert_to_ascii(sentences[i])\n",
    "    x=np.asarray(image,dtype='float')\n",
    "    image =  cv2.resize(x, dsize=(100,100), interpolation=cv2.INTER_CUBIC)\n",
    "    image/=128\n",
    "\n",
    "    \n",
    "#     if i==1:\n",
    "#         plt.plot(image)\n",
    "#         plt.show()    \n",
    "    arr[i]=image"
   ]
  },
  {
   "cell_type": "code",
   "execution_count": 29,
   "metadata": {},
   "outputs": [
    {
     "name": "stdout",
     "output_type": "stream",
     "text": [
      "Input data shape :  (13686, 100, 100)\n"
     ]
    }
   ],
   "source": [
    "print(\"Input data shape : \", arr.shape)"
   ]
  },
  {
   "cell_type": "code",
   "execution_count": 30,
   "metadata": {},
   "outputs": [],
   "source": [
    "data = arr.reshape(arr.shape[0], 100, 100, 1)"
   ]
  },
  {
   "cell_type": "code",
   "execution_count": 31,
   "metadata": {},
   "outputs": [],
   "source": [
    "y=df['Label'].values"
   ]
  },
  {
   "cell_type": "code",
   "execution_count": 32,
   "metadata": {},
   "outputs": [],
   "source": [
    "from sklearn.model_selection import train_test_split\n",
    "trainX, testX, trainY, testY = train_test_split(data,y, test_size=0.2, random_state=42)"
   ]
  },
  {
   "cell_type": "code",
   "execution_count": 33,
   "metadata": {},
   "outputs": [],
   "source": [
    "import tensorflow as tf\n",
    "from keras.models import Sequential\n",
    "from keras.layers import Dense, Activation, Conv2D, MaxPooling2D,Flatten,Dropout,MaxPool2D, BatchNormalization"
   ]
  },
  {
   "cell_type": "code",
   "execution_count": 34,
   "metadata": {},
   "outputs": [],
   "source": [
    "# A basic CNN Model\n",
    "# Number of layers = 11\n",
    "# Number of Convolutional layer: 3\n",
    "model=tf.keras.models.Sequential([\n",
    "    \n",
    "    tf.keras.layers.Conv2D(64,(3,3), activation=tf.nn.relu, input_shape=(100,100,1)),\n",
    "    tf.keras.layers.MaxPooling2D(2,2),\n",
    "    \n",
    "    tf.keras.layers.Conv2D(128,(3,3), activation='relu'),\n",
    "    tf.keras.layers.MaxPooling2D(2,2),\n",
    "    \n",
    "    tf.keras.layers.Conv2D(256,(3,3), activation='relu'),\n",
    "    tf.keras.layers.MaxPooling2D(2,2),\n",
    "    \n",
    "    tf.keras.layers.Flatten(),\n",
    "    tf.keras.layers.Dense(256, activation='relu'),\n",
    "    tf.keras.layers.Dense(128, activation='relu'),\n",
    "    tf.keras.layers.Dense(64, activation='relu'),\n",
    "    tf.keras.layers.Dense(1, activation='sigmoid')\n",
    "    \n",
    "])"
   ]
  },
  {
   "cell_type": "code",
   "execution_count": 35,
   "metadata": {},
   "outputs": [
    {
     "name": "stdout",
     "output_type": "stream",
     "text": [
      "Model: \"sequential_1\"\n",
      "_________________________________________________________________\n",
      "Layer (type)                 Output Shape              Param #   \n",
      "=================================================================\n",
      "conv2d_3 (Conv2D)            (None, 98, 98, 64)        640       \n",
      "_________________________________________________________________\n",
      "max_pooling2d_3 (MaxPooling2 (None, 49, 49, 64)        0         \n",
      "_________________________________________________________________\n",
      "conv2d_4 (Conv2D)            (None, 47, 47, 128)       73856     \n",
      "_________________________________________________________________\n",
      "max_pooling2d_4 (MaxPooling2 (None, 23, 23, 128)       0         \n",
      "_________________________________________________________________\n",
      "conv2d_5 (Conv2D)            (None, 21, 21, 256)       295168    \n",
      "_________________________________________________________________\n",
      "max_pooling2d_5 (MaxPooling2 (None, 10, 10, 256)       0         \n",
      "_________________________________________________________________\n",
      "flatten_1 (Flatten)          (None, 25600)             0         \n",
      "_________________________________________________________________\n",
      "dense_4 (Dense)              (None, 256)               6553856   \n",
      "_________________________________________________________________\n",
      "dense_5 (Dense)              (None, 128)               32896     \n",
      "_________________________________________________________________\n",
      "dense_6 (Dense)              (None, 64)                8256      \n",
      "_________________________________________________________________\n",
      "dense_7 (Dense)              (None, 1)                 65        \n",
      "=================================================================\n",
      "Total params: 6,964,737\n",
      "Trainable params: 6,964,737\n",
      "Non-trainable params: 0\n",
      "_________________________________________________________________\n"
     ]
    }
   ],
   "source": [
    "model.compile(loss='binary_crossentropy', \n",
    "              optimizer='adam', \n",
    "              metrics=['accuracy'])\n",
    "model.summary()"
   ]
  },
  {
   "cell_type": "code",
   "execution_count": 36,
   "metadata": {},
   "outputs": [],
   "source": [
    "class myCallback(tf.keras.callbacks.Callback):\n",
    "    def on_epoch_end(self, epoch, logs={}):\n",
    "        if(logs.get('val_accuracy')>0.97):\n",
    "            print(\" \\n Reached 97% + validation accuracy\")\n",
    "            self.model.stop_training=True\n",
    "callbacks = myCallback()"
   ]
  },
  {
   "cell_type": "code",
   "execution_count": 37,
   "metadata": {},
   "outputs": [
    {
     "name": "stdout",
     "output_type": "stream",
     "text": [
      "Train on 10948 samples, validate on 2738 samples\n",
      "Epoch 1/10\n",
      "10948/10948 [==============================] - 136s 12ms/sample - loss: 0.4739 - accuracy: 0.7731 - val_loss: 0.3925 - val_accuracy: 0.8141\n",
      "Epoch 2/10\n",
      "10948/10948 [==============================] - 140s 13ms/sample - loss: 0.3766 - accuracy: 0.8323 - val_loss: 0.3696 - val_accuracy: 0.8229\n",
      "Epoch 3/10\n",
      "10948/10948 [==============================] - 138s 13ms/sample - loss: 0.2044 - accuracy: 0.9235 - val_loss: 0.0927 - val_accuracy: 0.9726\n",
      "Epoch 4/10\n",
      "10948/10948 [==============================] - 137s 13ms/sample - loss: 0.0835 - accuracy: 0.9747 - val_loss: 0.0762 - val_accuracy: 0.9755\n",
      "Epoch 5/10\n",
      "10948/10948 [==============================] - 138s 13ms/sample - loss: 0.0704 - accuracy: 0.9799 - val_loss: 0.0610 - val_accuracy: 0.9803\n",
      "Epoch 6/10\n",
      "10948/10948 [==============================] - 140s 13ms/sample - loss: 0.0517 - accuracy: 0.9861 - val_loss: 0.0616 - val_accuracy: 0.9806\n",
      "Epoch 7/10\n",
      "10948/10948 [==============================] - 142s 13ms/sample - loss: 0.0499 - accuracy: 0.9864 - val_loss: 0.0550 - val_accuracy: 0.9850\n",
      "Epoch 8/10\n",
      "10948/10948 [==============================] - 140s 13ms/sample - loss: 0.0449 - accuracy: 0.9881 - val_loss: 0.0490 - val_accuracy: 0.9865\n",
      "Epoch 9/10\n",
      "10948/10948 [==============================] - 143s 13ms/sample - loss: 0.0434 - accuracy: 0.9869 - val_loss: 0.0453 - val_accuracy: 0.9861\n",
      "Epoch 10/10\n",
      "10948/10948 [==============================] - 143s 13ms/sample - loss: 0.0363 - accuracy: 0.9894 - val_loss: 0.0413 - val_accuracy: 0.9879\n"
     ]
    }
   ],
   "source": [
    "batch_size = 256\n",
    "num_epoch = 10\n",
    "#model training\n",
    "model_log = model.fit(trainX, trainY,\n",
    "          batch_size=batch_size,\n",
    "          epochs=num_epoch,\n",
    "          verbose=1,\n",
    "          validation_data=( testX,  testY)\n",
    "#                        callbacks=[callbacks]\n",
    "                     )"
   ]
  },
  {
   "cell_type": "code",
   "execution_count": 47,
   "metadata": {},
   "outputs": [],
   "source": [
    "import matplotlib.pyplot as plt\n",
    "def show_train_history(train_acc,test_acc):\n",
    "    plt.plot(model_log.history[train_acc])\n",
    "    plt.plot(model_log.history[test_acc])\n",
    "    plt.title('Train History')\n",
    "    plt.ylabel('Accuracy')\n",
    "    plt.xlabel('Epoch')\n",
    "    plt.legend(['train', 'test'], loc='upper left')\n",
    "    plt.savefig(\"1.png\")\n",
    "    plt.show()"
   ]
  },
  {
   "cell_type": "code",
   "execution_count": 48,
   "metadata": {},
   "outputs": [
    {
     "data": {
      "image/png": "[encoded data removed]",
      "text/plain": [
       "<Figure size 432x288 with 1 Axes>"
      ]
     },
     "metadata": {
      "needs_background": "light"
     },
     "output_type": "display_data"
    }
   ],
   "source": [
    "show_train_history('accuracy','val_accuracy')"
   ]
  },
  {
   "cell_type": "code",
   "execution_count": 49,
   "metadata": {},
   "outputs": [
    {
     "data": {
      "image/png": "[encoded data removed]",
      "text/plain": [
       "<Figure size 432x288 with 1 Axes>"
      ]
     },
     "metadata": {
      "needs_background": "light"
     },
     "output_type": "display_data"
    }
   ],
   "source": [
    "show_train_history('loss','val_loss')"
   ]
  },
  {
   "cell_type": "code",
   "execution_count": 38,
   "metadata": {},
   "outputs": [],
   "source": [
    "pred=model.predict(testX)"
   ]
  },
  {
   "cell_type": "code",
   "execution_count": 39,
   "metadata": {},
   "outputs": [],
   "source": [
    "for i in range(len(pred)):\n",
    "    if pred[i]>0.5:\n",
    "        pred[i]=1\n",
    "    elif pred[i]<=0.5:\n",
    "        pred[i]=0"
   ]
  },
  {
   "cell_type": "code",
   "execution_count": 40,
   "metadata": {},
   "outputs": [
    {
     "name": "stdout",
     "output_type": "stream",
     "text": [
      "correct predicted ::  2705\n",
      "false prediction ::  33\n"
     ]
    }
   ],
   "source": [
    "true=0\n",
    "false=0\n",
    "\n",
    "for i in range(len(pred)):\n",
    "    if pred[i] == testY[i]:\n",
    "        true+=1\n",
    "    else:\n",
    "        false+=1\n",
    "        \n",
    "print(\"correct predicted :: \", true)\n",
    "print(\"false prediction :: \", false)"
   ]
  },
  {
   "cell_type": "code",
   "execution_count": 41,
   "metadata": {},
   "outputs": [
    {
     "name": "stdout",
     "output_type": "stream",
     "text": [
      "Attack data in test set ::  1478\n",
      " Benign data in test set ::  1260\n"
     ]
    }
   ],
   "source": [
    "attack=0\n",
    "benign=0\n",
    "for i in range(len(testY)):\n",
    "    if testY[i]==1:\n",
    "        attack+=1\n",
    "    else:\n",
    "        benign+=1\n",
    "\n",
    "print(\"Attack data in test set :: \", attack)\n",
    "print(\" Benign data in test set :: \", benign)"
   ]
  },
  {
   "cell_type": "code",
   "execution_count": 43,
   "metadata": {},
   "outputs": [
    {
     "name": "stdout",
     "output_type": "stream",
     "text": [
      "Model: \"sequential_1\"\n",
      "_________________________________________________________________\n",
      "Layer (type)                 Output Shape              Param #   \n",
      "=================================================================\n",
      "conv2d_3 (Conv2D)            (None, 98, 98, 64)        640       \n",
      "_________________________________________________________________\n",
      "max_pooling2d_3 (MaxPooling2 (None, 49, 49, 64)        0         \n",
      "_________________________________________________________________\n",
      "conv2d_4 (Conv2D)            (None, 47, 47, 128)       73856     \n",
      "_________________________________________________________________\n",
      "max_pooling2d_4 (MaxPooling2 (None, 23, 23, 128)       0         \n",
      "_________________________________________________________________\n",
      "conv2d_5 (Conv2D)            (None, 21, 21, 256)       295168    \n",
      "_________________________________________________________________\n",
      "max_pooling2d_5 (MaxPooling2 (None, 10, 10, 256)       0         \n",
      "_________________________________________________________________\n",
      "flatten_1 (Flatten)          (None, 25600)             0         \n",
      "_________________________________________________________________\n",
      "dense_4 (Dense)              (None, 256)               6553856   \n",
      "_________________________________________________________________\n",
      "dense_5 (Dense)              (None, 128)               32896     \n",
      "_________________________________________________________________\n",
      "dense_6 (Dense)              (None, 64)                8256      \n",
      "_________________________________________________________________\n",
      "dense_7 (Dense)              (None, 1)                 65        \n",
      "=================================================================\n",
      "Total params: 6,964,737\n",
      "Trainable params: 6,964,737\n",
      "Non-trainable params: 0\n",
      "_________________________________________________________________\n"
     ]
    }
   ],
   "source": [
    "model.compile(loss='binary_crossentropy', \n",
    "              optimizer='sgd', \n",
    "              metrics=['accuracy'])\n",
    "model.summary()"
   ]
  },
  {
   "cell_type": "code",
   "execution_count": 44,
   "metadata": {},
   "outputs": [
    {
     "name": "stdout",
     "output_type": "stream",
     "text": [
      "Train on 10948 samples, validate on 2738 samples\n",
      "Epoch 1/10\n",
      "10948/10948 [==============================] - 145s 13ms/sample - loss: 0.1063 - accuracy: 0.9677 - val_loss: 0.0498 - val_accuracy: 0.9854\n",
      "Epoch 2/10\n",
      "10948/10948 [==============================] - 147s 13ms/sample - loss: 0.0391 - accuracy: 0.9888 - val_loss: 0.0790 - val_accuracy: 0.9788\n",
      "Epoch 3/10\n",
      "10948/10948 [==============================] - 150s 14ms/sample - loss: 0.0370 - accuracy: 0.9887 - val_loss: 0.0461 - val_accuracy: 0.9869\n",
      "Epoch 4/10\n",
      "10948/10948 [==============================] - 147s 13ms/sample - loss: 0.0368 - accuracy: 0.9889 - val_loss: 0.0532 - val_accuracy: 0.9836\n",
      "Epoch 5/10\n",
      "10948/10948 [==============================] - 149s 14ms/sample - loss: 0.0347 - accuracy: 0.9898 - val_loss: 0.0488 - val_accuracy: 0.9872\n",
      "Epoch 6/10\n",
      "10948/10948 [==============================] - 147s 13ms/sample - loss: 0.0342 - accuracy: 0.9895 - val_loss: 0.0474 - val_accuracy: 0.9879\n",
      "Epoch 7/10\n",
      "10948/10948 [==============================] - 144s 13ms/sample - loss: 0.0333 - accuracy: 0.9904 - val_loss: 0.0539 - val_accuracy: 0.9847\n",
      "Epoch 8/10\n",
      "10948/10948 [==============================] - 144s 13ms/sample - loss: 0.0321 - accuracy: 0.9903 - val_loss: 0.1255 - val_accuracy: 0.9547\n",
      "Epoch 9/10\n",
      "10948/10948 [==============================] - 145s 13ms/sample - loss: 0.0336 - accuracy: 0.9901 - val_loss: 0.0432 - val_accuracy: 0.9887\n",
      "Epoch 10/10\n",
      "10948/10948 [==============================] - 145s 13ms/sample - loss: 0.0314 - accuracy: 0.9908 - val_loss: 0.0470 - val_accuracy: 0.9825\n"
     ]
    }
   ],
   "source": [
    "batch_size = 128\n",
    "num_epoch = 10\n",
    "#model training\n",
    "model_log2 = model.fit(trainX, trainY,\n",
    "          batch_size=batch_size,\n",
    "          epochs=num_epoch,\n",
    "          verbose=1,\n",
    "          validation_data=( testX,  testY)\n",
    "#                        callbacks=[callbacks]\n",
    "                     )"
   ]
  },
  {
   "cell_type": "code",
   "execution_count": 55,
   "metadata": {},
   "outputs": [
    {
     "data": {
      "image/png": "[encoded data removed]",
      "text/plain": [
       "<Figure size 432x288 with 1 Axes>"
      ]
     },
     "metadata": {
      "needs_background": "light"
     },
     "output_type": "display_data"
    }
   ],
   "source": [
    "show_train_history('accuracy','val_accuracy')"
   ]
  },
  {
   "cell_type": "markdown",
   "metadata": {},
   "source": [
    "- 提前结束"
   ]
  },
  {
   "cell_type": "code",
   "execution_count": 53,
   "metadata": {},
   "outputs": [
    {
     "name": "stdout",
     "output_type": "stream",
     "text": [
      "Train on 10948 samples, validate on 2738 samples\n",
      "Epoch 1/10\n",
      "10880/10948 [============================>.] - ETA: 0s - loss: 0.0304 - accuracy: 0.9910 \n",
      " Reached 97% + validation accuracy\n",
      "10948/10948 [==============================] - 146s 13ms/sample - loss: 0.0302 - accuracy: 0.9910 - val_loss: 0.0422 - val_accuracy: 0.9865\n"
     ]
    }
   ],
   "source": [
    "batch_size = 128\n",
    "num_epoch = 10\n",
    "#model training\n",
    "model_log = model.fit(trainX, trainY,\n",
    "          batch_size=batch_size,\n",
    "          epochs=num_epoch,\n",
    "          verbose=1,\n",
    "          validation_data=( testX,  testY),\n",
    "          callbacks =[callbacks]\n",
    "                     )"
   ]
  },
  {
   "cell_type": "code",
   "execution_count": null,
   "metadata": {},
   "outputs": [],
   "source": []
  },
  {
   "cell_type": "code",
   "execution_count": 56,
   "metadata": {},
   "outputs": [],
   "source": [
    "model1=tf.keras.models.Sequential([\n",
    "    \n",
    "    tf.keras.layers.Conv2D(64,(3,3), activation=tf.nn.relu, input_shape=(100,100,1)),\n",
    "    tf.keras.layers.Dropout(0.25),\n",
    "    tf.keras.layers.MaxPooling2D(2,2),\n",
    "    \n",
    "    tf.keras.layers.Conv2D(128,(3,3), activation='relu'),\n",
    "    tf.keras.layers.Dropout(0.25),\n",
    "    tf.keras.layers.MaxPooling2D(2,2),\n",
    "    \n",
    "    tf.keras.layers.Conv2D(256,(3,3), activation='relu'),\n",
    "    tf.keras.layers.Dropout(0.25),\n",
    "    tf.keras.layers.MaxPooling2D(2,2),\n",
    "    \n",
    "    tf.keras.layers.Flatten(),\n",
    "    tf.keras.layers.Dense(256, activation='relu'),\n",
    "    tf.keras.layers.Dense(128, activation='relu'),\n",
    "    tf.keras.layers.Dense(64, activation='relu'),\n",
    "    tf.keras.layers.Dense(1, activation='sigmoid')\n",
    "    \n",
    "])"
   ]
  },
  {
   "cell_type": "code",
   "execution_count": 57,
   "metadata": {},
   "outputs": [
    {
     "name": "stdout",
     "output_type": "stream",
     "text": [
      "Model: \"sequential_3\"\n",
      "_________________________________________________________________\n",
      "Layer (type)                 Output Shape              Param #   \n",
      "=================================================================\n",
      "conv2d_9 (Conv2D)            (None, 98, 98, 64)        640       \n",
      "_________________________________________________________________\n",
      "dropout (Dropout)            (None, 98, 98, 64)        0         \n",
      "_________________________________________________________________\n",
      "max_pooling2d_9 (MaxPooling2 (None, 49, 49, 64)        0         \n",
      "_________________________________________________________________\n",
      "conv2d_10 (Conv2D)           (None, 47, 47, 128)       73856     \n",
      "_________________________________________________________________\n",
      "dropout_1 (Dropout)          (None, 47, 47, 128)       0         \n",
      "_________________________________________________________________\n",
      "max_pooling2d_10 (MaxPooling (None, 23, 23, 128)       0         \n",
      "_________________________________________________________________\n",
      "conv2d_11 (Conv2D)           (None, 21, 21, 256)       295168    \n",
      "_________________________________________________________________\n",
      "dropout_2 (Dropout)          (None, 21, 21, 256)       0         \n",
      "_________________________________________________________________\n",
      "max_pooling2d_11 (MaxPooling (None, 10, 10, 256)       0         \n",
      "_________________________________________________________________\n",
      "flatten_3 (Flatten)          (None, 25600)             0         \n",
      "_________________________________________________________________\n",
      "dense_12 (Dense)             (None, 256)               6553856   \n",
      "_________________________________________________________________\n",
      "dense_13 (Dense)             (None, 128)               32896     \n",
      "_________________________________________________________________\n",
      "dense_14 (Dense)             (None, 64)                8256      \n",
      "_________________________________________________________________\n",
      "dense_15 (Dense)             (None, 1)                 65        \n",
      "=================================================================\n",
      "Total params: 6,964,737\n",
      "Trainable params: 6,964,737\n",
      "Non-trainable params: 0\n",
      "_________________________________________________________________\n"
     ]
    }
   ],
   "source": [
    "model1.compile(loss='binary_crossentropy', \n",
    "              optimizer='sgd', \n",
    "              metrics=['accuracy'])\n",
    "model1.summary()"
   ]
  },
  {
   "cell_type": "code",
   "execution_count": null,
   "metadata": {},
   "outputs": [
    {
     "name": "stdout",
     "output_type": "stream",
     "text": [
      "Train on 10948 samples, validate on 2738 samples\n",
      "Epoch 1/10\n",
      "10948/10948 [==============================] - 217s 20ms/sample - loss: 0.6862 - accuracy: 0.6013 - val_loss: 0.6857 - val_accuracy: 0.5657\n",
      "Epoch 2/10\n",
      "10948/10948 [==============================] - 218s 20ms/sample - loss: 0.6764 - accuracy: 0.6034 - val_loss: 0.6803 - val_accuracy: 0.5767\n",
      "Epoch 3/10\n",
      "10948/10948 [==============================] - 235s 21ms/sample - loss: 0.6634 - accuracy: 0.6113 - val_loss: 0.6713 - val_accuracy: 0.5931\n",
      "Epoch 4/10\n",
      "  512/10948 [>.............................] - ETA: 3:24 - loss: 0.6557 - accuracy: 0.6113"
     ]
    }
   ],
   "source": [
    "batch_size = 128\n",
    "num_epoch = 10\n",
    "#model training\n",
    "model1_log = model1.fit(trainX, trainY,\n",
    "          batch_size=batch_size,\n",
    "          epochs=num_epoch,\n",
    "          verbose=1,\n",
    "          validation_data=( testX,  testY),\n",
    "          #callbacks =[callbacks]\n",
    "                     )"
   ]
  },
  {
   "cell_type": "code",
   "execution_count": null,
   "metadata": {},
   "outputs": [],
   "source": []
  }
 ],
 "metadata": {
  "kernelspec": {
   "display_name": "test",
   "language": "python",
   "name": "test"
  },
  "language_info": {
   "codemirror_mode": {
    "name": "ipython",
    "version": 3
   },
   "file_extension": ".py",
   "mimetype": "text/x-python",
   "name": "python",
   "nbconvert_exporter": "python",
   "pygments_lexer": "ipython3",
   "version": "3.7.0"
  }
 },
 "nbformat": 4,
 "nbformat_minor": 2
}
